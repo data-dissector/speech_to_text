{
 "cells": [
  {
   "cell_type": "code",
   "execution_count": 1,
   "id": "a04b73bb",
   "metadata": {},
   "outputs": [
    {
     "name": "stdout",
     "output_type": "stream",
     "text": [
      "Collecting SpeechRecognition\n",
      "  Downloading SpeechRecognition-3.8.1-py2.py3-none-any.whl (32.8 MB)\n",
      "\u001b[K     |████████████████████████████████| 32.8 MB 8.4 MB/s eta 0:00:011     |███████████████████             | 19.4 MB 18.6 MB/s eta 0:00:01\n",
      "\u001b[?25hInstalling collected packages: SpeechRecognition\n",
      "Successfully installed SpeechRecognition-3.8.1\n"
     ]
    }
   ],
   "source": [
    "!pip install SpeechRecognition"
   ]
  },
  {
   "cell_type": "code",
   "execution_count": 2,
   "id": "d4630675",
   "metadata": {},
   "outputs": [],
   "source": [
    "import speech_recognition as sr"
   ]
  },
  {
   "cell_type": "markdown",
   "id": "2874c2ea",
   "metadata": {},
   "source": [
    "### Initialize recognizer class for recognizing speech"
   ]
  },
  {
   "cell_type": "code",
   "execution_count": 3,
   "id": "e67362ae",
   "metadata": {},
   "outputs": [],
   "source": [
    "r = sr.Recognizer()"
   ]
  },
  {
   "cell_type": "markdown",
   "id": "e96bdb6d",
   "metadata": {},
   "source": [
    "### Audio file types supported: wav, AIFF, AIFF-C, FLAC"
   ]
  },
  {
   "cell_type": "markdown",
   "id": "e858d42b",
   "metadata": {},
   "source": [
    "### Read audio file as source, listen to audio file and store in audio_text"
   ]
  },
  {
   "cell_type": "code",
   "execution_count": 4,
   "id": "515a86e6",
   "metadata": {},
   "outputs": [],
   "source": [
    "with sr.AudioFile('OSR_us_000_0010_8k.wav') as source:\n",
    "    audio_text = r.listen(source)"
   ]
  },
  {
   "cell_type": "code",
   "execution_count": 5,
   "id": "a695173e",
   "metadata": {},
   "outputs": [
    {
     "name": "stdout",
     "output_type": "stream",
     "text": [
      "Converting audio transcripts into text ...\n",
      "search canoe slid on the smooth plank glue the sea to a dark blue background it is easy to tell the depth of the well these days a chicken leg of a very good price is often served in Randall's the juice of lemons makes find the boxes down beside the pump truck the Hager said top corn and garbage\n"
     ]
    }
   ],
   "source": [
    "try:\n",
    "    # using Google speech recognition API\n",
    "    text = r.recognize_google(audio_text)\n",
    "    print('Converting audio transcripts into text ...')\n",
    "    print(text)\n",
    "except:\n",
    "    print('Sorry.. run again...')"
   ]
  }
 ],
 "metadata": {
  "kernelspec": {
   "display_name": "Python 3",
   "language": "python",
   "name": "python3"
  },
  "language_info": {
   "codemirror_mode": {
    "name": "ipython",
    "version": 3
   },
   "file_extension": ".py",
   "mimetype": "text/x-python",
   "name": "python",
   "nbconvert_exporter": "python",
   "pygments_lexer": "ipython3",
   "version": "3.9.2"
  }
 },
 "nbformat": 4,
 "nbformat_minor": 5
}
